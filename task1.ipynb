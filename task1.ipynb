{
 "cells": [
  {
   "cell_type": "code",
   "execution_count": 2,
   "id": "701ace23-daf9-40ac-a4fe-2c169129daf9",
   "metadata": {
    "tags": []
   },
   "outputs": [
    {
     "name": "stdout",
     "output_type": "stream",
     "text": [
      "Mean Squared Error: 1619000.6574621205\n",
      "Coefficients: [   66.66666667 16538.46153846 -1282.05128205]\n",
      "Intercept: 69487.1794871795\n"
     ]
    }
   ],
   "source": [
    "import numpy as np\n",
    "from sklearn.model_selection import train_test_split\n",
    "from sklearn.linear_model import LinearRegression\n",
    "from sklearn.metrics import mean_squared_error\n",
    "\n",
    "# Sample data: square footage, number of bedrooms, number of bathrooms, and house prices\n",
    "square_footage = np.array([1500, 2000, 1800, 2200, 1200, 1700, 1300, 1900, 2100, 1600])\n",
    "num_bedrooms = np.array([2, 3, 2, 4, 2, 3, 2, 3, 4, 2])\n",
    "num_bathrooms = np.array([1, 2, 2, 3, 1, 2, 1, 2, 3, 1])\n",
    "house_prices = np.array([200000, 250000, 220000, 280000, 180000, 230000, 190000, 240000, 270000, 210000])\n",
    "\n",
    "# Combine features into a single matrix\n",
    "X = np.column_stack((square_footage, num_bedrooms, num_bathrooms))\n",
    "\n",
    "# Split the data into training and testing sets\n",
    "X_train, X_test, y_train, y_test = train_test_split(X, house_prices, test_size=0.2, random_state=42)\n",
    "\n",
    "# Create and train the linear regression model\n",
    "model = LinearRegression()\n",
    "model.fit(X_train, y_train)\n",
    "\n",
    "# Make predictions on the test data\n",
    "y_pred = model.predict(X_test)\n",
    "\n",
    "# Calculate the Mean Squared Error\n",
    "mse = mean_squared_error(y_test, y_pred)\n",
    "print(f\"Mean Squared Error: {mse}\")\n",
    "\n",
    "# Coefficients and intercept of the model\n",
    "coefficients = model.coef_\n",
    "intercept = model.intercept_\n",
    "print(f\"Coefficients: {coefficients}\")\n",
    "print(f\"Intercept: {intercept}\")\n"
   ]
  },
  {
   "cell_type": "code",
   "execution_count": null,
   "id": "940fac5f-5f96-4c14-802c-c197e9e24c9d",
   "metadata": {},
   "outputs": [],
   "source": []
  }
 ],
 "metadata": {
  "kernelspec": {
   "display_name": "Python 3 (ipykernel)",
   "language": "python",
   "name": "python3"
  },
  "language_info": {
   "codemirror_mode": {
    "name": "ipython",
    "version": 3
   },
   "file_extension": ".py",
   "mimetype": "text/x-python",
   "name": "python",
   "nbconvert_exporter": "python",
   "pygments_lexer": "ipython3",
   "version": "3.11.4"
  }
 },
 "nbformat": 4,
 "nbformat_minor": 5
}
